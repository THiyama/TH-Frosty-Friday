{
 "metadata": {
  "kernelspec": {
   "display_name": "Streamlit Notebook",
   "name": "streamlit"
  }
 },
 "nbformat_minor": 5,
 "nbformat": 4,
 "cells": [
  {
   "cell_type": "code",
   "id": "3775908f-ca36-4846-8f38-5adca39217f2",
   "metadata": {
    "language": "python",
    "name": "cell1"
   },
   "source": "# Import python packages\nimport streamlit as st\n\n# We can also use Snowpark for our analyses!\nfrom snowflake.snowpark.context import get_active_session\nsession = get_active_session()",
   "execution_count": null,
   "outputs": []
  },
  {
   "cell_type": "code",
   "id": "8d50cbf4-0c8d-4950-86cb-114990437ac9",
   "metadata": {
    "language": "sql",
    "name": "cell2",
    "codeCollapsed": false
   },
   "source": "create or replace stage frosty_stage url = 's3://frostyfridaychallenges/challenge_102/';",
   "execution_count": null,
   "outputs": []
  },
  {
   "cell_type": "code",
   "id": "c695373e-ac74-4b62-a1f1-08206cbd5c81",
   "metadata": {
    "language": "python",
    "name": "cell3",
    "codeCollapsed": false
   },
   "source": "import modin.pandas as pd\nimport snowflake.snowpark.modin.plugin\n\nclothes_shop_df = pd.read_csv('@frosty_stage/clothes_shop_purchases.csv')",
   "execution_count": null,
   "outputs": []
  },
  {
   "cell_type": "code",
   "id": "d848fe32-6d4b-4571-80b5-e95339b7f3a7",
   "metadata": {
    "language": "python",
    "name": "cell10"
   },
   "outputs": [],
   "source": "len(clothes_shop_df)",
   "execution_count": null
  },
  {
   "cell_type": "code",
   "id": "cc87379d-34cb-41b8-b98b-af22c8e49f05",
   "metadata": {
    "language": "python",
    "name": "cell4",
    "codeCollapsed": false
   },
   "outputs": [],
   "source": "st.dataframe(clothes_shop_df)",
   "execution_count": null
  },
  {
   "cell_type": "code",
   "id": "31c4407f-aecc-45e5-ae78-de6fafae8b1b",
   "metadata": {
    "language": "python",
    "name": "cell7"
   },
   "outputs": [],
   "source": "clothes_shop_df.info()",
   "execution_count": null
  },
  {
   "cell_type": "code",
   "id": "4ea2a093-ecd9-4376-a8d4-7d9df86217ee",
   "metadata": {
    "language": "python",
    "name": "cell11"
   },
   "outputs": [],
   "source": "clothes_shop_df.to_pandas().info()",
   "execution_count": null
  },
  {
   "cell_type": "markdown",
   "id": "66ac7b5d-8423-470e-b82f-5540635608f3",
   "metadata": {
    "name": "cell12",
    "collapsed": false
   },
   "source": "## Problem 1\nAt what hour of the day are the majority of our sales?"
  },
  {
   "cell_type": "code",
   "id": "8b4a2349-dfd2-4b4a-a1bc-e977e4b55c65",
   "metadata": {
    "language": "python",
    "name": "cell5",
    "codeCollapsed": false
   },
   "outputs": [],
   "source": "clothes_shop_df[\"Hour\"] = clothes_shop_df[\"Timestamp\"].dt.hour\nclothes_shop_df.groupby(\"Hour\")[\"Total_Price\"].sum().sort_values(ascending=False).head(1)",
   "execution_count": null
  },
  {
   "cell_type": "markdown",
   "id": "f97b0c2d-deb4-4280-82de-74e4b5b31ea5",
   "metadata": {
    "name": "cell6",
    "collapsed": false
   },
   "source": "## Problem 2\nWhich server sold the most?"
  },
  {
   "cell_type": "code",
   "id": "71e4fca6-b9e7-4a29-aa26-fd45c8e0e1ed",
   "metadata": {
    "language": "python",
    "name": "cell9",
    "codeCollapsed": false
   },
   "outputs": [],
   "source": "clothes_shop_df.groupby(\"Server\")[\"Total_Price\"].sum().sort_values(ascending=False).head(1)",
   "execution_count": null
  },
  {
   "cell_type": "markdown",
   "id": "a53042a3-0d2a-40ca-978d-4caa2bd49a52",
   "metadata": {
    "name": "cell14",
    "collapsed": false
   },
   "source": "## Problem 3\nWhat is the total price like if we deduct 20% for tax on the first five items?"
  },
  {
   "cell_type": "code",
   "id": "e5490e2e-3bc2-41f4-93e1-a90554560763",
   "metadata": {
    "language": "python",
    "name": "cell13",
    "codeCollapsed": false
   },
   "outputs": [],
   "source": "clothes_shop_df[\"Total_Price_deducted\"] = clothes_shop_df[\"Total_Price\"] * 0.8\nclothes_shop_df[[\"Transaction_ID\", \"Total_Price\", \"Total_Price_deducted\"]].head(5)",
   "execution_count": null
  },
  {
   "cell_type": "markdown",
   "id": "1cc14078-c9fc-461a-8fba-a6c5e3ae8cb4",
   "metadata": {
    "name": "cell8",
    "collapsed": false
   },
   "source": "## Problem 4\nWhat would the biggest till number be if we merged tills 4 and 5?"
  },
  {
   "cell_type": "code",
   "id": "b277108c-7df7-4030-81e1-3e6002850b56",
   "metadata": {
    "language": "python",
    "name": "cell15",
    "collapsed": false,
    "codeCollapsed": false
   },
   "outputs": [],
   "source": "clothes_shop_df.loc[clothes_shop_df[\"Till_Number\"] == 4, \"Till_Number_merged\"] = 3\nclothes_shop_df.loc[clothes_shop_df[\"Till_Number\"] != 4, \"Till_Number_merged\"] = clothes_shop_df[\"Till_Number\"]",
   "execution_count": null
  },
  {
   "cell_type": "code",
   "id": "9e27af33-9522-49a7-89da-280d4fe63434",
   "metadata": {
    "language": "python",
    "name": "cell16",
    "codeCollapsed": false
   },
   "outputs": [],
   "source": "clothes_shop_df.groupby(\"Till_Number_merged\")[\"Total_Price\"].sum().sort_values(ascending=False).head(4)",
   "execution_count": null
  },
  {
   "cell_type": "code",
   "id": "e0d8574c-24c8-4488-8c86-3e779438c930",
   "metadata": {
    "language": "python",
    "name": "cell17",
    "codeCollapsed": false
   },
   "outputs": [],
   "source": "",
   "execution_count": null
  }
 ]
}