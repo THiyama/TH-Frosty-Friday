{
 "metadata": {
  "kernelspec": {
   "display_name": "Streamlit Notebook",
   "name": "streamlit"
  }
 },
 "nbformat_minor": 5,
 "nbformat": 4,
 "cells": [
  {
   "cell_type": "code",
   "id": "3775908f-ca36-4846-8f38-5adca39217f2",
   "metadata": {
    "language": "python",
    "name": "cell1",
    "resultHeight": 0
   },
   "source": "# Import python packages\nimport streamlit as st\nimport pandas as pd\n\n# We can also use Snowpark for our analyses!\nfrom snowflake.snowpark.context import get_active_session\nsession = get_active_session()",
   "execution_count": null,
   "outputs": []
  },
  {
   "cell_type": "code",
   "id": "8d50cbf4-0c8d-4950-86cb-114990437ac9",
   "metadata": {
    "language": "sql",
    "name": "cell2",
    "codeCollapsed": false,
    "resultHeight": 111
   },
   "source": "create or replace file format frosty_csv\n    type = csv\n    skip_header = 1\n    field_optionally_enclosed_by = '\"';\n\ncreate or replace stage w29_stage\n    url = 's3://frostyfridaychallenges/challenge_29/'\n    file_format = frosty_csv;\n    \nlist @w29_stage;\n    \ncreate or replace table week29 as     \nselect t.$1::int as id, \n        t.$2::varchar(100) as first_name, \n        t.$3::varchar(100) as surname, \n        t.$4::varchar(250) as email, \n        t.$5::datetime as start_date \nfrom @w29_stage (pattern=>'.*start_dates.*') t;\n\ncreate or replace stage func_stg;",
   "execution_count": null,
   "outputs": []
  },
  {
   "cell_type": "markdown",
   "id": "85fb3667-f0ad-4e92-9e11-21fe1be5f1c1",
   "metadata": {
    "name": "cell13",
    "collapsed": false,
    "resultHeight": 60
   },
   "source": "## 解法１"
  },
  {
   "cell_type": "code",
   "id": "c695373e-ac74-4b62-a1f1-08206cbd5c81",
   "metadata": {
    "language": "python",
    "name": "cell3",
    "codeCollapsed": false,
    "resultHeight": 0
   },
   "source": "import datetime\n\nfrom snowflake.snowpark import functions as F\n\n@F.udf(name=\"fiscal_year\", replace=True, is_permanent=True, stage_location=\"func_stg\")\ndef fiscal_year(date: datetime.date) -> int:\n    if date.month >= 5:\n        result = date.year + 1\n    else:\n        result =  date.year\n\n    \n    return result",
   "execution_count": null,
   "outputs": []
  },
  {
   "cell_type": "code",
   "id": "ab859550-b24c-4798-91fb-8af471007c22",
   "metadata": {
    "language": "python",
    "name": "cell4",
    "codeCollapsed": false,
    "resultHeight": 345
   },
   "outputs": [],
   "source": "data = session.table(\"week29\").select(\n    F.col(\"id\"),\n    F.col(\"first_name\"),\n    F.col(\"surname\"),\n    F.col(\"email\"),\n    F.col(\"start_date\"),\n    F.call_udf(\"fiscal_year\", F.col(\"start_date\")).alias(\"fiscal_year\")\n)\n\ndata.show()",
   "execution_count": null
  },
  {
   "cell_type": "code",
   "id": "0d31f254-8982-4105-90cf-65c6ed541862",
   "metadata": {
    "language": "python",
    "name": "cell5",
    "codeCollapsed": false,
    "resultHeight": 166
   },
   "outputs": [],
   "source": "data.group_by(\"fiscal_year\").agg(F.col(\"*\"), \"count\").show()",
   "execution_count": null
  },
  {
   "cell_type": "markdown",
   "id": "1715deb4-1495-49be-9627-c3d0387679a7",
   "metadata": {
    "name": "cell14",
    "collapsed": false,
    "resultHeight": 60
   },
   "source": "## Snowflake Trail（Trace）によるパフォーマンスチェック"
  },
  {
   "cell_type": "code",
   "id": "a858d580-4526-46a2-8616-5f26ad1cd4e9",
   "metadata": {
    "language": "sql",
    "name": "cell6",
    "resultHeight": 111,
    "codeCollapsed": false
   },
   "outputs": [],
   "source": "ALTER SESSION SET TRACE_LEVEL = ALWAYS;",
   "execution_count": null
  },
  {
   "cell_type": "markdown",
   "id": "3e6dccd2-314e-4bd6-a4a2-77ae7b91c268",
   "metadata": {
    "name": "cell15",
    "collapsed": false,
    "resultHeight": 46
   },
   "source": "### 解法１にTraceを追加"
  },
  {
   "cell_type": "code",
   "id": "e2c4dc5f-73ed-4a73-af06-5deaf1600431",
   "metadata": {
    "language": "python",
    "name": "cell10",
    "resultHeight": 0,
    "codeCollapsed": false
   },
   "outputs": [],
   "source": "import datetime\n\nfrom snowflake.snowpark import functions as F\n\n@F.udf(name=\"fiscal_year_trace\", replace=True, is_permanent=True, stage_location=\"func_stg\", packages=[\"snowflake-telemetry-python\"])\ndef fiscal_year(date: datetime.date) -> int:\n    from snowflake import telemetry\n\n    telemetry.set_span_attribute(\"func.fiscal_year\", \"begin\")\n    telemetry.add_event(\"func.fiscal_year event\")\n    if date.month >= 5:\n        result = date.year + 1\n    else:\n        result =  date.year\n\n    telemetry.set_span_attribute(\"func.fiscal_year\", \"finish\")\n    \n    return result",
   "execution_count": null
  },
  {
   "cell_type": "code",
   "id": "d3d4836b-a855-4144-8a30-2e25a13e3df7",
   "metadata": {
    "language": "python",
    "name": "cell7",
    "codeCollapsed": false,
    "resultHeight": 345
   },
   "outputs": [],
   "source": "data = session.table(\"week29\").select(\n    F.col(\"id\"),\n    F.col(\"first_name\"),\n    F.col(\"surname\"),\n    F.col(\"email\"),\n    F.col(\"start_date\"),\n    F.call_udf(\"fiscal_year_trace\", F.col(\"start_date\")).alias(\"fiscal_year\")\n)\n\ndata.show()",
   "execution_count": null
  },
  {
   "cell_type": "code",
   "id": "bff1096c-1f5a-4f46-9ee9-a8b419cc664b",
   "metadata": {
    "language": "python",
    "name": "cell8",
    "codeCollapsed": false,
    "resultHeight": 166
   },
   "outputs": [],
   "source": "data.group_by(\"fiscal_year\").agg(F.col(\"*\"), \"count\").show()",
   "execution_count": null
  },
  {
   "cell_type": "markdown",
   "id": "5648c940-b5f1-4ef2-8256-0e8fb3446c6b",
   "metadata": {
    "name": "cell16",
    "collapsed": false,
    "resultHeight": 88
   },
   "source": "### 解法２ and Trace\nVectorized UDF を使用してみる"
  },
  {
   "cell_type": "code",
   "id": "a186562e-8f97-41e6-80ac-e7893bd32375",
   "metadata": {
    "language": "python",
    "name": "cell11",
    "resultHeight": 0,
    "codeCollapsed": false
   },
   "outputs": [],
   "source": "import datetime\n\nimport numpy as np\nfrom snowflake.snowpark.types import PandasSeries\nfrom snowflake.snowpark import functions as F\n\n@F.udf(name=\"fiscal_year_batch_trace\", replace=True, is_permanent=True, stage_location=\"func_stg\", packages=[\"snowflake-telemetry-python\"])\ndef fiscal_year_batch(date: PandasSeries[datetime.datetime]) -> PandasSeries[int]:\n    from snowflake import telemetry\n\n    telemetry.set_span_attribute(\"func.fiscal_year_batch\", \"begin\")\n    telemetry.add_event(\"func.fiscal_year_batch event\")\n    \n    result = np.where(date.dt.month >= 5, date.dt.year + 1, date.dt.year)\n\n    telemetry.set_span_attribute(\"func.fiscal_year_batch\", \"finish\")\n    \n    return result",
   "execution_count": null
  },
  {
   "cell_type": "code",
   "id": "08f2f163-3eae-400e-bb92-8b7a37c1a086",
   "metadata": {
    "language": "python",
    "name": "cell12",
    "codeCollapsed": false,
    "resultHeight": 345
   },
   "outputs": [],
   "source": "data = session.table(\"week29\").select(\n    F.col(\"id\"),\n    F.col(\"first_name\"),\n    F.col(\"surname\"),\n    F.col(\"email\"),\n    F.col(\"start_date\"),\n    F.call_udf(\"fiscal_year_batch_trace\", F.col(\"start_date\")).alias(\"fiscal_year\")\n)\n\ndata.show()",
   "execution_count": null
  },
  {
   "cell_type": "code",
   "id": "356cd6c9-fb98-445b-8eae-0f6a8696c9ff",
   "metadata": {
    "language": "python",
    "name": "cell9",
    "resultHeight": 166
   },
   "outputs": [],
   "source": "data.group_by(\"fiscal_year\").agg(F.col(\"*\"), \"count\").show()",
   "execution_count": null
  }
 ]
}