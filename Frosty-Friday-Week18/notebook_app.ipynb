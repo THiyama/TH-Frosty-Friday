{
 "metadata": {
  "kernelspec": {
   "display_name": "Streamlit Notebook",
   "name": "streamlit"
  }
 },
 "nbformat_minor": 5,
 "nbformat": 4,
 "cells": [
  {
   "cell_type": "code",
   "id": "3775908f-ca36-4846-8f38-5adca39217f2",
   "metadata": {
    "language": "python",
    "name": "py_import",
    "collapsed": false,
    "codeCollapsed": false
   },
   "source": "# Import python packages\nimport streamlit as st\nimport pandas as pd\n\n# We can also use Snowpark for our analyses!\nfrom snowflake.snowpark.context import get_active_session\nsession = get_active_session()",
   "execution_count": null,
   "outputs": []
  },
  {
   "cell_type": "code",
   "id": "8d50cbf4-0c8d-4950-86cb-114990437ac9",
   "metadata": {
    "language": "sql",
    "name": "sql_get_data",
    "codeCollapsed": false,
    "collapsed": false
   },
   "source": "select \n    year(date) as Year, VALUE as PCE\nfrom \n    financial__economic_essentials.cybersyn.FINANCIAL_FRED_TIMESERIES\nwhere true\n    and variable_name = 'Personal Consumption Expenditures: Chain-type Price Index, Seasonally adjusted, Monthly, Index 2017=100'\n    and date >= '1972-01-01'\n    and month(date) = 1\norder by date\n;",
   "execution_count": null,
   "outputs": []
  },
  {
   "cell_type": "markdown",
   "id": "2acc0bab-2206-45cd-91a0-e3cfcd4f81da",
   "metadata": {
    "name": "md_answer1",
    "collapsed": false
   },
   "source": "# 解法１\nPandasとScikit-learnライブラリによる線形回帰"
  },
  {
   "cell_type": "code",
   "id": "01ff5a3a-8e6f-4ed4-8aed-42a786c6543a",
   "metadata": {
    "language": "python",
    "name": "cell1",
    "codeCollapsed": false,
    "collapsed": false
   },
   "outputs": [],
   "source": "from sklearn.linear_model import LinearRegression\n\npd_df_pce_year = sql_get_data.to_pandas()\n\nx = pd_df_pce_year[\"YEAR\"].to_numpy().reshape(-1,1)\ny = pd_df_pce_year[\"PCE\"].to_numpy()\n\nmodel = LinearRegression().fit(x, y)",
   "execution_count": null
  },
  {
   "cell_type": "code",
   "id": "5ae1a2cb-be74-4239-85d9-d234515e4089",
   "metadata": {
    "language": "python",
    "name": "cell2",
    "codeCollapsed": false,
    "collapsed": false
   },
   "outputs": [],
   "source": "# test model for 2022\npredictYear = 2022\npce_pred = model.predict([[predictYear]])\n# print the last 5 years\nst.dataframe(pd_df_pce_year.tail(), hide_index=True)\n# run the prediction for 2022\nprint ('Prediction for '+str(predictYear)+': '+ str(round(pce_pred[0],2)))",
   "execution_count": null
  },
  {
   "cell_type": "markdown",
   "id": "1678a0bd-ab5e-4f14-8bd8-b9fd9907a9d4",
   "metadata": {
    "name": "md_answer2",
    "collapsed": false
   },
   "source": "# 解法２\nSnowpark DataFrameとSnowpark MLライブラリによる線形回帰"
  },
  {
   "cell_type": "code",
   "id": "5b4fffbd-5e89-4f83-949d-019a7b5605a8",
   "metadata": {
    "language": "python",
    "name": "cell3",
    "collapsed": false,
    "codeCollapsed": false
   },
   "outputs": [],
   "source": "from snowflake.ml.modeling.linear_model.linear_regression import LinearRegression\n\nsnow_df_pce_year = sql_get_data.to_df()\n\nregr = LinearRegression(\n    input_cols = \"YEAR\",\n    label_cols = \"PCE\",\n)\n\n_ = regr.fit(snow_df_pce_year)",
   "execution_count": null
  },
  {
   "cell_type": "code",
   "id": "74eddc18-bab8-4f85-8542-9abb45cc2d2f",
   "metadata": {
    "language": "python",
    "name": "cell4",
    "codeCollapsed": false,
    "collapsed": false
   },
   "outputs": [],
   "source": "def predict_pce(years: list)->list:\n    input = session.create_dataframe(years, schema = [\"YEAR\"])\n    pce_pred = regr.predict(input)\n\n    return pce_pred.to_pandas()\n    \n# test model for 2022\npredictYear = 2022\npredicted_pce = predict_pce([predictYear])\n\n# print the last 5 years\nst.dataframe (snow_df_pce_year.to_pandas().tail(), hide_index=True)\n# run the prediction for 2022\nprint ('Prediction for '+str(predictYear)+': '+ str(round(predicted_pce.iloc[0,1],2)))",
   "execution_count": null
  },
  {
   "cell_type": "markdown",
   "id": "262087e6-1e9f-488a-a21f-b49b5bf45959",
   "metadata": {
    "name": "md_wrapup",
    "collapsed": false
   },
   "source": "## Wrap up\n今回、Snowpark MLライブラリを使って線形回帰を行ってみました。この方法のメリットは何でしょうか？"
  },
  {
   "cell_type": "markdown",
   "id": "04da039c-9af2-489b-96b1-d4bfdfe6ef22",
   "metadata": {
    "name": "md_wrapup2",
    "collapsed": true
   },
   "source": "それは、「Snowflakeからデータが外に出ないこと」です。これにより、**モデルの学習時に比較的小さいローカルリソースを使うのではなく、Snowflakeのスケーラブルで従量制のコンピューティングリソースを活用できます**。\nまた、今後、NotebooksやSiSは、ウェアハウス分離機能によりフロントはXSのマネージドウェアハウスを、クエリ実行は任意のサイズのウェアハウスをそれぞれ使い分けることができるようになります。このとき、大容量データをフロント用のマネージドウェアハウス上でPandas・Scikit-learnを使って学習させるのではなく、Snowpark DataFrame・Snowpark MLを使って学習させることで、コスト効率良く、フレキシブルにSnowflakeのコンピューティングを活用することができます。\n\nなお、今回の線形回帰は対象外ですが、Snowpark MLの前処理やモデリング関数の一部は、Snowflakeのウェアハウス上で分散実行されるように設計されています。こうしたSnowflakeに最適になるように構成されていることも、Snowpark MLライブラリの素晴らしいポイントだと考えております。詳しい対応リストはこちらの公式ドキュメントを参照してみてください。\nhttps://docs.snowflake.com/developer-guide/snowpark-ml/modeling#snowpark-ml-modeling-classes"
  },
  {
   "cell_type": "markdown",
   "id": "a5ebc195-42c6-4049-bd82-cf1d548dd0be",
   "metadata": {
    "name": "md_visualize",
    "collapsed": false
   },
   "source": "# Streamlitによる可視化"
  },
  {
   "cell_type": "code",
   "id": "31a1ddba-2d40-48d3-b05a-384d902a79c4",
   "metadata": {
    "language": "python",
    "name": "cell5",
    "collapsed": false,
    "codeCollapsed": false
   },
   "outputs": [],
   "source": "import plotly.express as px\n\npredictYears = list(range(1972, 2031))\npredicted_pce = predict_pce(predictYears)\n\nfig = px.line(snow_df_pce_year, x=\"YEAR\", y=\"PCE\")\nfig.add_traces(px.scatter(predicted_pce, x=\"YEAR\", y=\"OUTPUT_PCE\").data)\nst.plotly_chart(fig)\n\nif st.button(\":snowflake:\"):\n    st.snow()",
   "execution_count": null
  },
  {
   "cell_type": "code",
   "id": "c1950384-be3c-408a-b355-0c797f4114d0",
   "metadata": {
    "language": "python",
    "name": "cell6",
    "codeCollapsed": false
   },
   "outputs": [],
   "source": "",
   "execution_count": null
  }
 ]
}